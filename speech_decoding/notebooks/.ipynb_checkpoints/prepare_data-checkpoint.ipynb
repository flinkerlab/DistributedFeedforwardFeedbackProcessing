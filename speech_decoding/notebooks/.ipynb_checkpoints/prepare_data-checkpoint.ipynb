{
 "cells": [
  {
   "cell_type": "markdown",
   "metadata": {},
   "source": [
    "- prepare data in h5 formant\n",
    "    - ECoG\n",
    "    - Spec\n",
    "    - Waveform\n",
    "    - onset offset"
   ]
  },
  {
   "cell_type": "markdown",
   "metadata": {},
   "source": [
    "'ecog_alldataset','label_alldataset',\\\n",
    "'formant_re_alldataset','pitch_re_alldataset','intensity_re_alldataset',\\\n",
    "'start_ind_re_valid_alldataset','end_ind_re_valid_alldataset','wave_re_spec_alldataset',\\\n",
    "'wave_re_alldataset','wave_re_spec_amp_alldataset','noisesample_re_alldataset'"
   ]
  },
  {
   "cell_type": "code",
   "execution_count": 12,
   "metadata": {},
   "outputs": [
    {
     "name": "stderr",
     "output_type": "stream",
     "text": [
      "/ext3/miniconda3/lib/python3.7/site-packages/ipykernel_launcher.py:4: H5pyDeprecationWarning: The default file mode will change to 'r' (read-only) in h5py 3.0. To suppress this warning, pass the mode you need to h5py.File(), or set the global default h5.get_config().default_file_mode, or set the environment variable H5PY_DEFAULT_READONLY=1. Available modes are: 'r', 'r+', 'w', 'w-'/'x', 'a'. See the docs for details.\n",
      "  after removing the cwd from sys.path.\n"
     ]
    }
   ],
   "source": [
    "import h5py\n",
    "import numpy as np\n",
    "metadata =  h5py.File('../data/NY869.h5')"
   ]
  },
  {
   "cell_type": "code",
   "execution_count": 13,
   "metadata": {},
   "outputs": [
    {
     "name": "stdout",
     "output_type": "stream",
     "text": [
      "ecog_alldataset (189893, 64)\n",
      "end_ind_re_valid_alldataset (378,)\n",
      "formant_re_alldataset (189893, 6)\n",
      "intensity_re_alldataset (189893,)\n",
      "label_alldataset (378,)\n",
      "noisesample_re_alldataset (512,)\n",
      "pitch_re_alldataset (189893,)\n",
      "start_ind_re_valid_alldataset (378,)\n",
      "wave_re_alldataset (24306304, 1)\n",
      "wave_re_spec_alldataset (189893, 512)\n",
      "wave_re_spec_amp_alldataset (189893, 512)\n"
     ]
    }
   ],
   "source": [
    "for key in metadata.keys():\n",
    "    print (key, metadata[key].shape)"
   ]
  },
  {
   "cell_type": "markdown",
   "metadata": {},
   "source": [
    "- in `configs/train_param_production.ymal` we set ECoG and Spec sampling rate to `125`, and our segment has 128 frames\n",
    "- preprare your own ECoG signal array, should look like: (189893, 64) which means Temporal length \\* electrodes channel\n",
    "- prepare your onset and offset to segment out the trial, then save them to `start_ind_re_valid_alldataset` and `end_ind_re_valid_alldataset` correspondingly\n",
    "- prepare the trial's corresponding word label and save to `label_alldataset`\n",
    "- prepare waveform dataset, sampling rate `16000`, save to `wave_re_alldataset`\n",
    "- prepare spectrogram dataset, sampling rate `16000` save to `wave_re_spec_alldataset`\n",
    "```\n",
    "wave_re_spec = wave2spec(wave),n_fft=N_FFT_num,noise_db=cfg.MODEL.NOISE_DB,max_db=cfg.MODEL.MAX_DB,power=2 if cfg.MODEL.POWER_SYNTH else 1)\n",
    "wave_re_spec_amp = wave2spec( wave,n_fft=N_FFT_num,noise_db=cfg.MODEL.NOISE_DB,max_db=cfg.MODEL.MAX_DB,to_db=False,power=2 if cfg.MODEL.POWER_SYNTH else 1)\n",
    "```\n",
    "- optionally, prepare `pitch_re_alldataset`, `intensity_re_alldataset`, `formant_re_alldataset`\n",
    "- prepare noise distribution dataset, \n",
    "    ```\n",
    "    baseline_ind_spec = np.concatenate([np.arange((start_ind_valid[i]*1.0/self.DOWN_ECOG_FS*self.DOWN_TF_FS-self.DOWN_TF_FS//4).astype(np.int64),(start_ind_valid[i]*1.0/self.DOWN_ECOG_FS*self.DOWN_TF_FS-self.DOWN_TF_FS//8).astype(np.int64)) for i in range(len(start_ind_valid))])\n",
    "    noisesample_re = wave_re_spec[baseline_ind_spec]\n",
    "    noise = 10**(((np.concatenate(noisesample_re_,axis=0).mean(0)+1)/2*(cfg.MODEL.MAX_DB-cfg.MODEL.NOISE_DB)+cfg.MODEL.NOISE_DB)/10)\n",
    "    ```  "
   ]
  }
 ],
 "metadata": {
  "kernelspec": {
   "display_name": "Python 3",
   "language": "python",
   "name": "python3"
  },
  "language_info": {
   "codemirror_mode": {
    "name": "ipython",
    "version": 3
   },
   "file_extension": ".py",
   "mimetype": "text/x-python",
   "name": "python",
   "nbconvert_exporter": "python",
   "pygments_lexer": "ipython3",
   "version": "3.7.9"
  },
  "toc": {
   "base_numbering": 1,
   "nav_menu": {},
   "number_sections": true,
   "sideBar": true,
   "skip_h1_title": false,
   "title_cell": "Table of Contents",
   "title_sidebar": "Contents",
   "toc_cell": false,
   "toc_position": {},
   "toc_section_display": true,
   "toc_window_display": false
  }
 },
 "nbformat": 4,
 "nbformat_minor": 4
}
